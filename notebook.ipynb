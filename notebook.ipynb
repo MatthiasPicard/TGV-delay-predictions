{
 "cells": [
  {
   "cell_type": "code",
   "execution_count": 2,
   "metadata": {},
   "outputs": [],
   "source": [
    "import pandas as pd\n",
    "import numpy as np\n",
    "import matplotlib.pyplot as plt\n",
    "import seaborn as sns\n"
   ]
  },
  {
   "cell_type": "code",
   "execution_count": 59,
   "metadata": {},
   "outputs": [],
   "source": [
    "df = pd.read_csv(\"regularite-mensuelle-tgv-aqst.csv\",encoding=\"latin-1\")"
   ]
  },
  {
   "cell_type": "code",
   "execution_count": 60,
   "metadata": {},
   "outputs": [
    {
     "name": "stdout",
     "output_type": "stream",
     "text": [
      "<class 'pandas.core.frame.DataFrame'>\n",
      "RangeIndex: 8154 entries, 0 to 8153\n",
      "Data columns (total 26 columns):\n",
      " #   Column                                Non-Null Count  Dtype  \n",
      "---  ------                                --------------  -----  \n",
      " 0   date                                  8154 non-null   object \n",
      " 1   service                               8154 non-null   object \n",
      " 2   gare_depart                           8154 non-null   object \n",
      " 3   gare_arrivee                          8154 non-null   object \n",
      " 4   duree_moyenne                         8154 non-null   int64  \n",
      " 5   nb_train_prevu                        8154 non-null   int64  \n",
      " 6   nb_annulation                         8154 non-null   int64  \n",
      " 7   commentaire_annulation                0 non-null      float64\n",
      " 8   nb_train_depart_retard                8154 non-null   int64  \n",
      " 9   retard_moyen_depart                   8154 non-null   float64\n",
      " 10  retard_moyen_tous_trains_depart       8154 non-null   float64\n",
      " 11  commentaire_retards_depart            0 non-null      float64\n",
      " 12  nb_train_retard_arrivee               8154 non-null   int64  \n",
      " 13  retard_moyen_arrivee                  8154 non-null   float64\n",
      " 14  retard_moyen_tous_trains_arrivee      8154 non-null   float64\n",
      " 15  commentaires_retard_arrivee           698 non-null    object \n",
      " 16  nb_train_retard_sup_15                8154 non-null   int64  \n",
      " 17  retard_moyen_trains_retard_sup15      8154 non-null   float64\n",
      " 18  nb_train_retard_sup_30                8154 non-null   int64  \n",
      " 19  nb_train_retard_sup_60                8154 non-null   int64  \n",
      " 20  prct_cause_externe                    8154 non-null   float64\n",
      " 21  prct_cause_infra                      8154 non-null   float64\n",
      " 22  prct_cause_gestion_trafic             8154 non-null   float64\n",
      " 23  prct_cause_materiel_roulant           8154 non-null   float64\n",
      " 24  prct_cause_gestion_gare               8154 non-null   float64\n",
      " 25  prct_cause_prise_en_charge_voyageurs  8154 non-null   float64\n",
      "dtypes: float64(13), int64(8), object(5)\n",
      "memory usage: 1.6+ MB\n"
     ]
    }
   ],
   "source": [
    "df.info()"
   ]
  },
  {
   "cell_type": "code",
   "execution_count": 61,
   "metadata": {},
   "outputs": [
    {
     "data": {
      "text/html": [
       "<div>\n",
       "<style scoped>\n",
       "    .dataframe tbody tr th:only-of-type {\n",
       "        vertical-align: middle;\n",
       "    }\n",
       "\n",
       "    .dataframe tbody tr th {\n",
       "        vertical-align: top;\n",
       "    }\n",
       "\n",
       "    .dataframe thead th {\n",
       "        text-align: right;\n",
       "    }\n",
       "</style>\n",
       "<table border=\"1\" class=\"dataframe\">\n",
       "  <thead>\n",
       "    <tr style=\"text-align: right;\">\n",
       "      <th></th>\n",
       "      <th>date</th>\n",
       "      <th>service</th>\n",
       "      <th>gare_depart</th>\n",
       "      <th>gare_arrivee</th>\n",
       "      <th>duree_moyenne</th>\n",
       "      <th>nb_train_prevu</th>\n",
       "      <th>nb_annulation</th>\n",
       "      <th>commentaire_annulation</th>\n",
       "      <th>nb_train_depart_retard</th>\n",
       "      <th>retard_moyen_depart</th>\n",
       "      <th>...</th>\n",
       "      <th>nb_train_retard_sup_15</th>\n",
       "      <th>retard_moyen_trains_retard_sup15</th>\n",
       "      <th>nb_train_retard_sup_30</th>\n",
       "      <th>nb_train_retard_sup_60</th>\n",
       "      <th>prct_cause_externe</th>\n",
       "      <th>prct_cause_infra</th>\n",
       "      <th>prct_cause_gestion_trafic</th>\n",
       "      <th>prct_cause_materiel_roulant</th>\n",
       "      <th>prct_cause_gestion_gare</th>\n",
       "      <th>prct_cause_prise_en_charge_voyageurs</th>\n",
       "    </tr>\n",
       "  </thead>\n",
       "  <tbody>\n",
       "    <tr>\n",
       "      <th>0</th>\n",
       "      <td>1/1/2018</td>\n",
       "      <td>National</td>\n",
       "      <td>BORDEAUX ST JEAN</td>\n",
       "      <td>PARIS MONTPARNASSE</td>\n",
       "      <td>141</td>\n",
       "      <td>870</td>\n",
       "      <td>5</td>\n",
       "      <td>NaN</td>\n",
       "      <td>289</td>\n",
       "      <td>11.247809</td>\n",
       "      <td>...</td>\n",
       "      <td>110</td>\n",
       "      <td>6.511118</td>\n",
       "      <td>44</td>\n",
       "      <td>8</td>\n",
       "      <td>36.134454</td>\n",
       "      <td>31.092437</td>\n",
       "      <td>10.924370</td>\n",
       "      <td>15.966387</td>\n",
       "      <td>5.042017</td>\n",
       "      <td>0.840336</td>\n",
       "    </tr>\n",
       "    <tr>\n",
       "      <th>1</th>\n",
       "      <td>1/1/2018</td>\n",
       "      <td>National</td>\n",
       "      <td>LA ROCHELLE VILLE</td>\n",
       "      <td>PARIS MONTPARNASSE</td>\n",
       "      <td>165</td>\n",
       "      <td>222</td>\n",
       "      <td>0</td>\n",
       "      <td>NaN</td>\n",
       "      <td>8</td>\n",
       "      <td>2.875000</td>\n",
       "      <td>...</td>\n",
       "      <td>22</td>\n",
       "      <td>5.696096</td>\n",
       "      <td>5</td>\n",
       "      <td>0</td>\n",
       "      <td>15.384615</td>\n",
       "      <td>30.769231</td>\n",
       "      <td>38.461538</td>\n",
       "      <td>11.538462</td>\n",
       "      <td>3.846154</td>\n",
       "      <td>0.000000</td>\n",
       "    </tr>\n",
       "    <tr>\n",
       "      <th>2</th>\n",
       "      <td>1/1/2018</td>\n",
       "      <td>National</td>\n",
       "      <td>PARIS MONTPARNASSE</td>\n",
       "      <td>QUIMPER</td>\n",
       "      <td>220</td>\n",
       "      <td>248</td>\n",
       "      <td>1</td>\n",
       "      <td>NaN</td>\n",
       "      <td>37</td>\n",
       "      <td>9.501351</td>\n",
       "      <td>...</td>\n",
       "      <td>26</td>\n",
       "      <td>7.548387</td>\n",
       "      <td>17</td>\n",
       "      <td>7</td>\n",
       "      <td>26.923077</td>\n",
       "      <td>38.461538</td>\n",
       "      <td>15.384615</td>\n",
       "      <td>19.230769</td>\n",
       "      <td>0.000000</td>\n",
       "      <td>0.000000</td>\n",
       "    </tr>\n",
       "    <tr>\n",
       "      <th>3</th>\n",
       "      <td>1/1/2018</td>\n",
       "      <td>National</td>\n",
       "      <td>PARIS MONTPARNASSE</td>\n",
       "      <td>ST MALO</td>\n",
       "      <td>156</td>\n",
       "      <td>102</td>\n",
       "      <td>0</td>\n",
       "      <td>NaN</td>\n",
       "      <td>12</td>\n",
       "      <td>19.912500</td>\n",
       "      <td>...</td>\n",
       "      <td>8</td>\n",
       "      <td>6.724757</td>\n",
       "      <td>6</td>\n",
       "      <td>4</td>\n",
       "      <td>23.076923</td>\n",
       "      <td>46.153846</td>\n",
       "      <td>7.692308</td>\n",
       "      <td>15.384615</td>\n",
       "      <td>7.692308</td>\n",
       "      <td>0.000000</td>\n",
       "    </tr>\n",
       "    <tr>\n",
       "      <th>4</th>\n",
       "      <td>1/1/2018</td>\n",
       "      <td>National</td>\n",
       "      <td>PARIS MONTPARNASSE</td>\n",
       "      <td>ST PIERRE DES CORPS</td>\n",
       "      <td>61</td>\n",
       "      <td>391</td>\n",
       "      <td>2</td>\n",
       "      <td>NaN</td>\n",
       "      <td>61</td>\n",
       "      <td>7.796995</td>\n",
       "      <td>...</td>\n",
       "      <td>17</td>\n",
       "      <td>3.346487</td>\n",
       "      <td>6</td>\n",
       "      <td>0</td>\n",
       "      <td>21.212121</td>\n",
       "      <td>42.424242</td>\n",
       "      <td>9.090909</td>\n",
       "      <td>21.212121</td>\n",
       "      <td>6.060606</td>\n",
       "      <td>0.000000</td>\n",
       "    </tr>\n",
       "  </tbody>\n",
       "</table>\n",
       "<p>5 rows × 26 columns</p>\n",
       "</div>"
      ],
      "text/plain": [
       "       date   service         gare_depart         gare_arrivee  duree_moyenne  \\\n",
       "0  1/1/2018  National    BORDEAUX ST JEAN   PARIS MONTPARNASSE            141   \n",
       "1  1/1/2018  National   LA ROCHELLE VILLE   PARIS MONTPARNASSE            165   \n",
       "2  1/1/2018  National  PARIS MONTPARNASSE              QUIMPER            220   \n",
       "3  1/1/2018  National  PARIS MONTPARNASSE              ST MALO            156   \n",
       "4  1/1/2018  National  PARIS MONTPARNASSE  ST PIERRE DES CORPS             61   \n",
       "\n",
       "   nb_train_prevu  nb_annulation  commentaire_annulation  \\\n",
       "0             870              5                     NaN   \n",
       "1             222              0                     NaN   \n",
       "2             248              1                     NaN   \n",
       "3             102              0                     NaN   \n",
       "4             391              2                     NaN   \n",
       "\n",
       "   nb_train_depart_retard  retard_moyen_depart  ...  nb_train_retard_sup_15  \\\n",
       "0                     289            11.247809  ...                     110   \n",
       "1                       8             2.875000  ...                      22   \n",
       "2                      37             9.501351  ...                      26   \n",
       "3                      12            19.912500  ...                       8   \n",
       "4                      61             7.796995  ...                      17   \n",
       "\n",
       "   retard_moyen_trains_retard_sup15  nb_train_retard_sup_30  \\\n",
       "0                          6.511118                      44   \n",
       "1                          5.696096                       5   \n",
       "2                          7.548387                      17   \n",
       "3                          6.724757                       6   \n",
       "4                          3.346487                       6   \n",
       "\n",
       "   nb_train_retard_sup_60  prct_cause_externe prct_cause_infra  \\\n",
       "0                       8           36.134454        31.092437   \n",
       "1                       0           15.384615        30.769231   \n",
       "2                       7           26.923077        38.461538   \n",
       "3                       4           23.076923        46.153846   \n",
       "4                       0           21.212121        42.424242   \n",
       "\n",
       "   prct_cause_gestion_trafic  prct_cause_materiel_roulant  \\\n",
       "0                  10.924370                    15.966387   \n",
       "1                  38.461538                    11.538462   \n",
       "2                  15.384615                    19.230769   \n",
       "3                   7.692308                    15.384615   \n",
       "4                   9.090909                    21.212121   \n",
       "\n",
       "   prct_cause_gestion_gare  prct_cause_prise_en_charge_voyageurs  \n",
       "0                 5.042017                              0.840336  \n",
       "1                 3.846154                              0.000000  \n",
       "2                 0.000000                              0.000000  \n",
       "3                 7.692308                              0.000000  \n",
       "4                 6.060606                              0.000000  \n",
       "\n",
       "[5 rows x 26 columns]"
      ]
     },
     "execution_count": 61,
     "metadata": {},
     "output_type": "execute_result"
    }
   ],
   "source": [
    "df.head()"
   ]
  },
  {
   "cell_type": "code",
   "execution_count": 62,
   "metadata": {},
   "outputs": [
    {
     "name": "stdout",
     "output_type": "stream",
     "text": [
      "59\n",
      "59\n",
      "8154\n"
     ]
    }
   ],
   "source": [
    "print(len(set(df[\"gare_depart\"].tolist()))) #pd.get_dummies\n",
    "print(len(set(df[\"gare_arrivee\"].tolist()))) #pd.get_dummies\n",
    "print(len(df[\"date\"].tolist())) "
   ]
  },
  {
   "cell_type": "code",
   "execution_count": 74,
   "metadata": {},
   "outputs": [],
   "source": [
    "def clean_df(df):\n",
    "    # Add commands to clean dataframe\n",
    "    df = df.dropna(axis=1, how='all')\n",
    "    df = df.drop(\"commentaires_retard_arrivee\", axis=1) # str and not relevant for model\n",
    "    return df\n",
    "\n",
    "clean_df = clean_df(df) #Test\n",
    "# Dataset cleaning should be done on train and test set separately -> ensure reproducibility\n"
   ]
  },
  {
   "cell_type": "code",
   "execution_count": 75,
   "metadata": {},
   "outputs": [
    {
     "name": "stdout",
     "output_type": "stream",
     "text": [
      "23\n",
      "26\n"
     ]
    }
   ],
   "source": [
    "print(len(clean_df.columns))\n",
    "print(len(df.columns))"
   ]
  },
  {
   "cell_type": "code",
   "execution_count": 55,
   "metadata": {},
   "outputs": [
    {
     "name": "stdout",
     "output_type": "stream",
     "text": [
      "Lenghts of train/test: 7428/726\n",
      "split train/test: 91.1/8.9\n"
     ]
    }
   ],
   "source": [
    "def get_train_test_set(df):\n",
    "    train_idx = []\n",
    "    test_idx = []\n",
    "    for i, d in enumerate(df[\"date\"].tolist()):\n",
    "        month, day, year = d.split('/')\n",
    "        if int(year)<2023:\n",
    "            train_idx.append(i)\n",
    "        else:\n",
    "            test_idx.append(i)\n",
    "    \n",
    "    train_set = df.iloc[train_idx].copy(deep=True)\n",
    "    test_set = df.iloc[test_idx].copy(deep=True)\n",
    "    \n",
    "    return train_set, test_set\n",
    "\n",
    "train_set, test_set = get_train_test_set(df)\n",
    "\n",
    "\n",
    "split = [(len(train_idx)/len(df))*100, (len(test_idx)/len(df))*100]\n",
    "print(f\"Lenghts of train/test: {len(train_idx)}/{len(test_idx)}\")\n",
    "print(f\"split train/test: {round(split[0],2)}/{round(split[1],2)}\")"
   ]
  },
  {
   "cell_type": "code",
   "execution_count": 51,
   "metadata": {},
   "outputs": [],
   "source": []
  },
  {
   "cell_type": "code",
   "execution_count": 53,
   "metadata": {},
   "outputs": [
    {
     "data": {
      "text/plain": [
       "{'International', 'National'}"
      ]
     },
     "execution_count": 53,
     "metadata": {},
     "output_type": "execute_result"
    }
   ],
   "source": [
    "set(train_set[\"service\"].tolist())"
   ]
  },
  {
   "cell_type": "markdown",
   "metadata": {},
   "source": [
    "test with date transform to year, months over years, days"
   ]
  }
 ],
 "metadata": {
  "kernelspec": {
   "display_name": "base",
   "language": "python",
   "name": "python3"
  },
  "language_info": {
   "codemirror_mode": {
    "name": "ipython",
    "version": 3
   },
   "file_extension": ".py",
   "mimetype": "text/x-python",
   "name": "python",
   "nbconvert_exporter": "python",
   "pygments_lexer": "ipython3",
   "version": "3.11.5"
  },
  "orig_nbformat": 4
 },
 "nbformat": 4,
 "nbformat_minor": 2
}
